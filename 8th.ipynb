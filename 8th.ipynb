{
 "cells": [
  {
   "cell_type": "code",
   "execution_count": 1,
   "id": "e242f9d7-1c8e-4d39-99eb-311a55fe0c1d",
   "metadata": {
    "execution": {
     "iopub.execute_input": "2022-10-30T18:38:21.917695Z",
     "iopub.status.busy": "2022-10-30T18:38:21.917528Z",
     "iopub.status.idle": "2022-10-30T18:38:25.149552Z",
     "shell.execute_reply": "2022-10-30T18:38:25.149056Z",
     "shell.execute_reply.started": "2022-10-30T18:38:21.917643Z"
    },
    "tags": []
   },
   "outputs": [
    {
     "name": "stderr",
     "output_type": "stream",
     "text": [
      "2022-10-30 18:38:22.850690: I tensorflow/core/platform/cpu_feature_guard.cc:193] This TensorFlow binary is optimized with oneAPI Deep Neural Network Library (oneDNN) to use the following CPU instructions in performance-critical operations:  AVX2 AVX512F AVX512_VNNI FMA\n",
      "To enable them in other operations, rebuild TensorFlow with the appropriate compiler flags.\n",
      "2022-10-30 18:38:23.021315: I tensorflow/core/util/util.cc:169] oneDNN custom operations are on. You may see slightly different numerical results due to floating-point round-off errors from different computation orders. To turn them off, set the environment variable `TF_ENABLE_ONEDNN_OPTS=0`.\n",
      "2022-10-30 18:38:23.058058: E tensorflow/stream_executor/cuda/cuda_blas.cc:2981] Unable to register cuBLAS factory: Attempting to register factory for plugin cuBLAS when one has already been registered\n",
      "2022-10-30 18:38:23.682622: W tensorflow/stream_executor/platform/default/dso_loader.cc:64] Could not load dynamic library 'libnvinfer.so.7'; dlerror: libnvinfer.so.7: cannot open shared object file: No such file or directory; LD_LIBRARY_PATH: /usr/local/nvidia/lib:/usr/local/nvidia/lib64\n",
      "2022-10-30 18:38:23.682709: W tensorflow/stream_executor/platform/default/dso_loader.cc:64] Could not load dynamic library 'libnvinfer_plugin.so.7'; dlerror: libnvinfer_plugin.so.7: cannot open shared object file: No such file or directory; LD_LIBRARY_PATH: /usr/local/nvidia/lib:/usr/local/nvidia/lib64\n",
      "2022-10-30 18:38:23.682719: W tensorflow/compiler/tf2tensorrt/utils/py_utils.cc:38] TF-TRT Warning: Cannot dlopen some TensorRT libraries. If you would like to use Nvidia GPU with TensorRT, please make sure the missing libraries mentioned above are installed properly.\n"
     ]
    }
   ],
   "source": [
    "# !pip install sklearn\n",
    "# !pip install tensorflow\n",
    "# !pip install numpy\n",
    "# !pip install matplotlib\n",
    "# !pip install torch\n",
    "\n",
    "import torch\n",
    "from torch import nn\n",
    "import sys\n",
    "import sklearn\n",
    "import tensorflow as tf\n",
    "from tensorflow import keras\n",
    "import numpy as np\n",
    "import os\n",
    "%matplotlib inline\n",
    "import matplotlib as mpl\n",
    "import matplotlib.pyplot as plt\n",
    "mpl.rc('axes', labelsize=14)\n",
    "mpl.rc('xtick', labelsize=12)\n",
    "mpl.rc('ytick', labelsize=12)"
   ]
  },
  {
   "cell_type": "code",
   "execution_count": 2,
   "id": "2489cf9d-719a-46c7-8d51-7e74c666d815",
   "metadata": {
    "execution": {
     "iopub.execute_input": "2022-10-30T18:38:25.151071Z",
     "iopub.status.busy": "2022-10-30T18:38:25.150856Z",
     "iopub.status.idle": "2022-10-30T18:38:25.898672Z",
     "shell.execute_reply": "2022-10-30T18:38:25.898145Z",
     "shell.execute_reply.started": "2022-10-30T18:38:25.151050Z"
    },
    "tags": []
   },
   "outputs": [],
   "source": [
    "cifar = keras.datasets.cifar10\n",
    "(X_train_full, y_train_full), (X_test, y_test) = cifar.load_data()"
   ]
  },
  {
   "cell_type": "code",
   "execution_count": 3,
   "id": "9fea3410-48db-41ed-bd11-ddbf681136b2",
   "metadata": {
    "execution": {
     "iopub.execute_input": "2022-10-30T18:38:25.899659Z",
     "iopub.status.busy": "2022-10-30T18:38:25.899445Z",
     "iopub.status.idle": "2022-10-30T18:38:26.378451Z",
     "shell.execute_reply": "2022-10-30T18:38:26.377941Z",
     "shell.execute_reply.started": "2022-10-30T18:38:25.899640Z"
    },
    "tags": []
   },
   "outputs": [],
   "source": [
    "X_valid, X_train = X_train_full[:5000] / 255., X_train_full[5000:] / 255.\n",
    "y_valid, y_train = y_train_full[:5000], y_train_full[5000:]\n",
    "X_test = X_test / 255."
   ]
  },
  {
   "cell_type": "code",
   "execution_count": 4,
   "id": "20ec5113-a9b9-47af-bb19-ae959622b012",
   "metadata": {
    "execution": {
     "iopub.execute_input": "2022-10-30T18:38:26.379474Z",
     "iopub.status.busy": "2022-10-30T18:38:26.379252Z",
     "iopub.status.idle": "2022-10-30T18:38:26.479234Z",
     "shell.execute_reply": "2022-10-30T18:38:26.478797Z",
     "shell.execute_reply.started": "2022-10-30T18:38:26.379452Z"
    },
    "tags": []
   },
   "outputs": [
    {
     "data": {
      "image/png": "[encoded data removed]",
      "text/plain": [
       "<Figure size 432x288 with 1 Axes>"
      ]
     },
     "metadata": {
      "needs_background": "light"
     },
     "output_type": "display_data"
    }
   ],
   "source": [
    "plt.imshow(X_train[190], cmap='gray')\n",
    "plt.show()"
   ]
  },
  {
   "cell_type": "code",
   "execution_count": 5,
   "id": "ac53eeea-c901-4c64-8fb7-73f10bb8715e",
   "metadata": {
    "execution": {
     "iopub.execute_input": "2022-10-30T18:38:26.480129Z",
     "iopub.status.busy": "2022-10-30T18:38:26.479927Z",
     "iopub.status.idle": "2022-10-30T18:38:26.483160Z",
     "shell.execute_reply": "2022-10-30T18:38:26.482738Z",
     "shell.execute_reply.started": "2022-10-30T18:38:26.480109Z"
    },
    "tags": []
   },
   "outputs": [
    {
     "name": "stdout",
     "output_type": "stream",
     "text": [
      "(5000, 1) (45000, 1)\n"
     ]
    }
   ],
   "source": [
    "print(y_valid.shape, y_train.shape)"
   ]
  },
  {
   "cell_type": "code",
   "execution_count": 6,
   "id": "4eb0019f-cd14-4f88-8ab9-4748130e7fdd",
   "metadata": {
    "execution": {
     "iopub.execute_input": "2022-10-30T18:38:26.483896Z",
     "iopub.status.busy": "2022-10-30T18:38:26.483762Z",
     "iopub.status.idle": "2022-10-30T18:38:26.640885Z",
     "shell.execute_reply": "2022-10-30T18:38:26.640401Z",
     "shell.execute_reply.started": "2022-10-30T18:38:26.483879Z"
    },
    "tags": []
   },
   "outputs": [
    {
     "name": "stderr",
     "output_type": "stream",
     "text": [
      "2022-10-30 18:38:26.539036: I tensorflow/stream_executor/cuda/cuda_gpu_executor.cc:980] successful NUMA node read from SysFS had negative value (-1), but there must be at least one NUMA node, so returning NUMA node zero\n",
      "2022-10-30 18:38:26.539828: W tensorflow/stream_executor/platform/default/dso_loader.cc:64] Could not load dynamic library 'libcudnn.so.8'; dlerror: libcudnn.so.8: cannot open shared object file: No such file or directory; LD_LIBRARY_PATH: /usr/local/nvidia/lib:/usr/local/nvidia/lib64\n",
      "2022-10-30 18:38:26.539846: W tensorflow/core/common_runtime/gpu/gpu_device.cc:1934] Cannot dlopen some GPU libraries. Please make sure the missing libraries mentioned above are installed properly if you would like to use GPU. Follow the guide at https://www.tensorflow.org/install/gpu for how to download and setup the required libraries for your platform.\n",
      "Skipping registering GPU devices...\n",
      "2022-10-30 18:38:26.540304: I tensorflow/core/platform/cpu_feature_guard.cc:193] This TensorFlow binary is optimized with oneAPI Deep Neural Network Library (oneDNN) to use the following CPU instructions in performance-critical operations:  AVX2 AVX512F AVX512_VNNI FMA\n",
      "To enable them in other operations, rebuild TensorFlow with the appropriate compiler flags.\n"
     ]
    }
   ],
   "source": [
    "model = keras.models.Sequential([\n",
    "    keras.layers.Flatten(input_shape=[32, 32, 3]),\n",
    "    keras.layers.Dense(300, activation=\"relu\"),\n",
    "    keras.layers.Dense(300, activation=\"relu\"),\n",
    "    keras.layers.Dense(200, activation=\"relu\"),\n",
    "    keras.layers.Dropout(0.4),\n",
    "    keras.layers.Dense(100, activation=\"relu\"),\n",
    "    keras.layers.Dense(10, activation=\"softmax\")\n",
    "])"
   ]
  },
  {
   "cell_type": "code",
   "execution_count": 7,
   "id": "9a71ac47-c61d-463a-b24d-56f2cc602f91",
   "metadata": {
    "execution": {
     "iopub.execute_input": "2022-10-30T18:38:26.642538Z",
     "iopub.status.busy": "2022-10-30T18:38:26.642319Z",
     "iopub.status.idle": "2022-10-30T18:38:26.652165Z",
     "shell.execute_reply": "2022-10-30T18:38:26.651705Z",
     "shell.execute_reply.started": "2022-10-30T18:38:26.642516Z"
    },
    "tags": []
   },
   "outputs": [],
   "source": [
    "model.compile(loss=\"sparse_categorical_crossentropy\",\n",
    "              optimizer=\"nadam\",\n",
    "              metrics=[\"accuracy\"])"
   ]
  },
  {
   "cell_type": "code",
   "execution_count": 8,
   "id": "c8a937bd-1c51-49b8-b0a7-6997144483c4",
   "metadata": {
    "execution": {
     "iopub.execute_input": "2022-10-30T18:38:26.653196Z",
     "iopub.status.busy": "2022-10-30T18:38:26.652836Z",
     "iopub.status.idle": "2022-10-30T18:39:43.919282Z",
     "shell.execute_reply": "2022-10-30T18:39:43.918769Z",
     "shell.execute_reply.started": "2022-10-30T18:38:26.653177Z"
    },
    "tags": []
   },
   "outputs": [
    {
     "name": "stdout",
     "output_type": "stream",
     "text": [
      "Epoch 1/12\n",
      "1407/1407 [==============================] - 7s 5ms/step - loss: 1.9230 - accuracy: 0.2980 - val_loss: 1.7958 - val_accuracy: 0.3482\n",
      "Epoch 2/12\n",
      "1407/1407 [==============================] - 6s 4ms/step - loss: 1.7511 - accuracy: 0.3707 - val_loss: 1.6951 - val_accuracy: 0.3824\n",
      "Epoch 3/12\n",
      "1407/1407 [==============================] - 6s 4ms/step - loss: 1.6829 - accuracy: 0.3942 - val_loss: 1.6429 - val_accuracy: 0.3986\n",
      "Epoch 4/12\n",
      "1407/1407 [==============================] - 6s 4ms/step - loss: 1.6404 - accuracy: 0.4137 - val_loss: 1.6150 - val_accuracy: 0.4128\n",
      "Epoch 5/12\n",
      "1407/1407 [==============================] - 6s 4ms/step - loss: 1.6041 - accuracy: 0.4250 - val_loss: 1.6719 - val_accuracy: 0.3976\n",
      "Epoch 6/12\n",
      "1407/1407 [==============================] - 6s 4ms/step - loss: 1.5763 - accuracy: 0.4316 - val_loss: 1.5908 - val_accuracy: 0.4304\n",
      "Epoch 7/12\n",
      "1407/1407 [==============================] - 6s 4ms/step - loss: 1.5543 - accuracy: 0.4441 - val_loss: 1.5545 - val_accuracy: 0.4396\n",
      "Epoch 8/12\n",
      "1407/1407 [==============================] - 6s 4ms/step - loss: 1.5400 - accuracy: 0.4462 - val_loss: 1.5626 - val_accuracy: 0.4414\n",
      "Epoch 9/12\n",
      "1407/1407 [==============================] - 6s 4ms/step - loss: 1.5195 - accuracy: 0.4553 - val_loss: 1.5371 - val_accuracy: 0.4462\n",
      "Epoch 10/12\n",
      "1407/1407 [==============================] - 6s 4ms/step - loss: 1.5081 - accuracy: 0.4610 - val_loss: 1.5504 - val_accuracy: 0.4414\n",
      "Epoch 11/12\n",
      "1407/1407 [==============================] - 6s 4ms/step - loss: 1.4976 - accuracy: 0.4641 - val_loss: 1.5376 - val_accuracy: 0.4548\n",
      "Epoch 12/12\n",
      "1407/1407 [==============================] - 6s 4ms/step - loss: 1.4848 - accuracy: 0.4667 - val_loss: 1.5367 - val_accuracy: 0.4514\n"
     ]
    }
   ],
   "source": [
    "history = model.fit(X_train, y_train, epochs=12,\n",
    "                    validation_data=(X_valid, y_valid))"
   ]
  },
  {
   "cell_type": "code",
   "execution_count": 9,
   "id": "62997e3d-4693-4249-abc5-13aa022ec908",
   "metadata": {
    "execution": {
     "iopub.execute_input": "2022-10-30T18:39:43.920763Z",
     "iopub.status.busy": "2022-10-30T18:39:43.920466Z",
     "iopub.status.idle": "2022-10-30T18:39:44.631142Z",
     "shell.execute_reply": "2022-10-30T18:39:44.630665Z",
     "shell.execute_reply.started": "2022-10-30T18:39:43.920730Z"
    },
    "tags": []
   },
   "outputs": [
    {
     "name": "stdout",
     "output_type": "stream",
     "text": [
      "313/313 [==============================] - 1s 2ms/step - loss: 1.5338 - accuracy: 0.4481\n"
     ]
    },
    {
     "data": {
      "text/plain": [
       "[1.533846139907837, 0.4481000006198883]"
      ]
     },
     "execution_count": 9,
     "metadata": {},
     "output_type": "execute_result"
    }
   ],
   "source": [
    "model.evaluate(X_test, y_test)"
   ]
  },
  {
   "cell_type": "code",
   "execution_count": 10,
   "id": "ddd9f52a-5b4a-4022-8e84-269f3fe8b23a",
   "metadata": {
    "execution": {
     "iopub.execute_input": "2022-10-30T18:39:44.632008Z",
     "iopub.status.busy": "2022-10-30T18:39:44.631856Z",
     "iopub.status.idle": "2022-10-30T18:39:44.753138Z",
     "shell.execute_reply": "2022-10-30T18:39:44.752666Z",
     "shell.execute_reply.started": "2022-10-30T18:39:44.631989Z"
    },
    "tags": []
   },
   "outputs": [
    {
     "data": {
      "image/png": "[encoded data removed]",
      "text/plain": [
       "<Figure size 720x504 with 1 Axes>"
      ]
     },
     "metadata": {
      "needs_background": "light"
     },
     "output_type": "display_data"
    }
   ],
   "source": [
    "plt.figure(figsize=(10,7))\n",
    "plt.plot(history.history['loss'])\n",
    "plt.plot(history.history['val_loss'])\n",
    "plt.title('model loss')\n",
    "plt.ylabel('loss')\n",
    "plt.xlabel('epoch')\n",
    "plt.legend(['train', 'valid'], loc='upper left')\n",
    "plt.show()"
   ]
  },
  {
   "cell_type": "code",
   "execution_count": 11,
   "id": "c5aaebf2-4466-42f2-bc0d-2e0fae0173d3",
   "metadata": {
    "execution": {
     "iopub.execute_input": "2022-10-30T18:39:44.753972Z",
     "iopub.status.busy": "2022-10-30T18:39:44.753832Z",
     "iopub.status.idle": "2022-10-30T18:39:44.757024Z",
     "shell.execute_reply": "2022-10-30T18:39:44.756572Z",
     "shell.execute_reply.started": "2022-10-30T18:39:44.753954Z"
    }
   },
   "outputs": [],
   "source": [
    "X_train = X_train[..., np.newaxis]\n",
    "X_valid = X_valid[..., np.newaxis]\n",
    "X_test = X_test[..., np.newaxis]"
   ]
  },
  {
   "cell_type": "code",
   "execution_count": 12,
   "id": "833021fd-6c25-4756-a7d8-7cd1c600c157",
   "metadata": {
    "execution": {
     "iopub.execute_input": "2022-10-30T18:39:44.757771Z",
     "iopub.status.busy": "2022-10-30T18:39:44.757638Z",
     "iopub.status.idle": "2022-10-30T18:39:44.909942Z",
     "shell.execute_reply": "2022-10-30T18:39:44.909449Z",
     "shell.execute_reply.started": "2022-10-30T18:39:44.757754Z"
    },
    "tags": []
   },
   "outputs": [],
   "source": [
    "from functools import partial\n",
    "\n",
    "DefaultConv2D = partial(keras.layers.Conv2D,\n",
    "                        kernel_size=3, activation='relu', padding=\"SAME\")\n",
    "\n",
    "model = keras.models.Sequential([\n",
    "    DefaultConv2D(filters=32, kernel_size=3, input_shape=[32, 32, 3]),\n",
    "    keras.layers.BatchNormalization(),\n",
    "    \n",
    "    DefaultConv2D(filters=64, kernel_size=5),\n",
    "    keras.layers.BatchNormalization(),\n",
    "    \n",
    "    DefaultConv2D(filters=128, kernel_size=3),\n",
    "    keras.layers.BatchNormalization(),\n",
    "    \n",
    "    DefaultConv2D(filters=64, kernel_size=5),\n",
    "    keras.layers.BatchNormalization(),\n",
    "    keras.layers.MaxPooling2D(pool_size=2),\n",
    "    \n",
    "    DefaultConv2D(filters=64, kernel_size=3),\n",
    "    keras.layers.MaxPooling2D(pool_size=2),\n",
    "    keras.layers.BatchNormalization(),\n",
    "    \n",
    "    DefaultConv2D(filters=32, kernel_size=3),\n",
    "    keras.layers.BatchNormalization(),\n",
    "    \n",
    "    keras.layers.Flatten(),\n",
    "    keras.layers.Dropout(0.4),\n",
    "    keras.layers.Dense(units=256, activation='relu'),\n",
    "    keras.layers.Dropout(0.3),\n",
    "    keras.layers.Dense(units=10, activation='softmax')\n",
    "])"
   ]
  },
  {
   "cell_type": "code",
   "execution_count": 13,
   "id": "19ff6b91-ca98-42c7-86de-a6d28ee77183",
   "metadata": {
    "execution": {
     "iopub.execute_input": "2022-10-30T18:39:44.910959Z",
     "iopub.status.busy": "2022-10-30T18:39:44.910748Z",
     "iopub.status.idle": "2022-10-30T18:47:15.909927Z",
     "shell.execute_reply": "2022-10-30T18:47:15.909418Z",
     "shell.execute_reply.started": "2022-10-30T18:39:44.910939Z"
    },
    "tags": []
   },
   "outputs": [
    {
     "name": "stdout",
     "output_type": "stream",
     "text": [
      "Epoch 1/5\n",
      "1407/1407 [==============================] - 91s 63ms/step - loss: 1.4539 - accuracy: 0.4903 - val_loss: 1.1997 - val_accuracy: 0.5852\n",
      "Epoch 2/5\n",
      "1407/1407 [==============================] - 88s 63ms/step - loss: 0.9874 - accuracy: 0.6548 - val_loss: 0.8481 - val_accuracy: 0.7020\n",
      "Epoch 3/5\n",
      "1407/1407 [==============================] - 88s 63ms/step - loss: 0.8324 - accuracy: 0.7086 - val_loss: 0.8394 - val_accuracy: 0.7090\n",
      "Epoch 4/5\n",
      "1407/1407 [==============================] - 88s 63ms/step - loss: 0.7317 - accuracy: 0.7426 - val_loss: 0.6980 - val_accuracy: 0.7608\n",
      "Epoch 5/5\n",
      "1407/1407 [==============================] - 88s 63ms/step - loss: 0.6583 - accuracy: 0.7705 - val_loss: 0.6999 - val_accuracy: 0.7584\n",
      "313/313 [==============================] - 7s 23ms/step - loss: 0.7177 - accuracy: 0.7573\n"
     ]
    }
   ],
   "source": [
    "model.compile(loss=\"sparse_categorical_crossentropy\", optimizer=\"nadam\", metrics=[\"accuracy\"])\n",
    "history = model.fit(X_train, y_train, epochs=5,\n",
    "                    validation_data=(X_valid, y_valid))\n",
    "score = model.evaluate(X_test, y_test)"
   ]
  },
  {
   "cell_type": "code",
   "execution_count": 14,
   "id": "388afba7-717f-4295-bcc4-e43515f28a41",
   "metadata": {
    "execution": {
     "iopub.execute_input": "2022-10-30T18:47:15.911044Z",
     "iopub.status.busy": "2022-10-30T18:47:15.910828Z",
     "iopub.status.idle": "2022-10-30T18:47:23.070932Z",
     "shell.execute_reply": "2022-10-30T18:47:23.070441Z",
     "shell.execute_reply.started": "2022-10-30T18:47:15.911023Z"
    }
   },
   "outputs": [
    {
     "name": "stdout",
     "output_type": "stream",
     "text": [
      "313/313 [==============================] - 7s 22ms/step - loss: 0.7177 - accuracy: 0.7573\n"
     ]
    },
    {
     "data": {
      "text/plain": [
       "[0.7176719307899475, 0.7573000192642212]"
      ]
     },
     "execution_count": 14,
     "metadata": {},
     "output_type": "execute_result"
    }
   ],
   "source": [
    "model.evaluate(X_test, y_test)"
   ]
  },
  {
   "cell_type": "code",
   "execution_count": 15,
   "id": "2f3d988f-5ae9-4a02-a696-616f0e706a12",
   "metadata": {
    "execution": {
     "iopub.execute_input": "2022-10-30T18:47:23.071886Z",
     "iopub.status.busy": "2022-10-30T18:47:23.071678Z",
     "iopub.status.idle": "2022-10-30T18:47:23.207515Z",
     "shell.execute_reply": "2022-10-30T18:47:23.207063Z",
     "shell.execute_reply.started": "2022-10-30T18:47:23.071865Z"
    }
   },
   "outputs": [
    {
     "data": {
      "image/png": "[encoded data removed]",
      "text/plain": [
       "<Figure size 720x504 with 1 Axes>"
      ]
     },
     "metadata": {
      "needs_background": "light"
     },
     "output_type": "display_data"
    }
   ],
   "source": [
    "plt.figure(figsize=(10,7))\n",
    "plt.plot(history.history['loss'])\n",
    "plt.plot(history.history['val_loss'])\n",
    "plt.title('model loss')\n",
    "plt.ylabel('loss')\n",
    "plt.xlabel('epoch')\n",
    "plt.legend(['train', 'valid'], loc='upper left')\n",
    "plt.show()"
   ]
  },
  {
   "cell_type": "markdown",
   "id": "5d1567e3-e944-483a-b3b7-ddab953b69ef",
   "metadata": {},
   "source": [
    "### I did not train the model further, since retraining begins. Here you can clearly see that the convolutional neural network solves the problem much better."
   ]
  },
  {
   "cell_type": "code",
   "execution_count": null,
   "id": "59ba81b9-0323-4e76-b3fa-ef702f635686",
   "metadata": {},
   "outputs": [],
   "source": []
  }
 ],
 "metadata": {
  "kernelspec": {
   "display_name": "saturn (Python 3)",
   "language": "python",
   "name": "python3"
  },
  "language_info": {
   "codemirror_mode": {
    "name": "ipython",
    "version": 3
   },
   "file_extension": ".py",
   "mimetype": "text/x-python",
   "name": "python",
   "nbconvert_exporter": "python",
   "pygments_lexer": "ipython3",
   "version": "3.9.12"
  }
 },
 "nbformat": 4,
 "nbformat_minor": 5
}
