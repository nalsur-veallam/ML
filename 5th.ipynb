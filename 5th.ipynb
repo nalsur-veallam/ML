{
 "cells": [
  {
   "cell_type": "code",
   "execution_count": 5,
   "id": "8a90c913",
   "metadata": {},
   "outputs": [],
   "source": [
    "import numpy as np\n",
    "import matplotlib.pyplot as plt\n",
    "import pandas as pd\n",
    "\n",
    "from sklearn.tree import DecisionTreeRegressor, export_text\n",
    "\n",
    "from sklearn.model_selection import train_test_split, cross_val_score, GridSearchCV\n",
    "from sklearn.preprocessing import StandardScaler\n",
    "\n",
    "from sklearn.metrics import mean_squared_error as mse\n",
    "from sklearn.metrics import accuracy_score"
   ]
  },
  {
   "cell_type": "code",
   "execution_count": 6,
   "id": "60d1f439",
   "metadata": {},
   "outputs": [
    {
     "data": {
      "text/html": [
       "<div>\n",
       "<style scoped>\n",
       "    .dataframe tbody tr th:only-of-type {\n",
       "        vertical-align: middle;\n",
       "    }\n",
       "\n",
       "    .dataframe tbody tr th {\n",
       "        vertical-align: top;\n",
       "    }\n",
       "\n",
       "    .dataframe thead th {\n",
       "        text-align: right;\n",
       "    }\n",
       "</style>\n",
       "<table border=\"1\" class=\"dataframe\">\n",
       "  <thead>\n",
       "    <tr style=\"text-align: right;\">\n",
       "      <th></th>\n",
       "      <th>Alloy code</th>\n",
       "      <th>C</th>\n",
       "      <th>Si</th>\n",
       "      <th>Mn</th>\n",
       "      <th>P</th>\n",
       "      <th>S</th>\n",
       "      <th>Ni</th>\n",
       "      <th>Cr</th>\n",
       "      <th>Mo</th>\n",
       "      <th>Cu</th>\n",
       "      <th>V</th>\n",
       "      <th>Al</th>\n",
       "      <th>N</th>\n",
       "      <th>Ceq</th>\n",
       "      <th>Nb + Ta</th>\n",
       "      <th>Temperature (°C)</th>\n",
       "      <th>0.2% Proof Stress (MPa)</th>\n",
       "      <th>Tensile Strength (MPa)</th>\n",
       "      <th>Elongation (%)</th>\n",
       "      <th>Reduction in Area (%)</th>\n",
       "    </tr>\n",
       "  </thead>\n",
       "  <tbody>\n",
       "    <tr>\n",
       "      <th>0</th>\n",
       "      <td>MBB</td>\n",
       "      <td>0.12</td>\n",
       "      <td>0.36</td>\n",
       "      <td>0.52</td>\n",
       "      <td>0.009</td>\n",
       "      <td>0.003</td>\n",
       "      <td>0.089</td>\n",
       "      <td>0.97</td>\n",
       "      <td>0.61</td>\n",
       "      <td>0.04</td>\n",
       "      <td>0.0</td>\n",
       "      <td>0.003</td>\n",
       "      <td>0.0066</td>\n",
       "      <td>0.0</td>\n",
       "      <td>0.0</td>\n",
       "      <td>27</td>\n",
       "      <td>342</td>\n",
       "      <td>490</td>\n",
       "      <td>30</td>\n",
       "      <td>71</td>\n",
       "    </tr>\n",
       "    <tr>\n",
       "      <th>1</th>\n",
       "      <td>MBB</td>\n",
       "      <td>0.12</td>\n",
       "      <td>0.36</td>\n",
       "      <td>0.52</td>\n",
       "      <td>0.009</td>\n",
       "      <td>0.003</td>\n",
       "      <td>0.089</td>\n",
       "      <td>0.97</td>\n",
       "      <td>0.61</td>\n",
       "      <td>0.04</td>\n",
       "      <td>0.0</td>\n",
       "      <td>0.003</td>\n",
       "      <td>0.0066</td>\n",
       "      <td>0.0</td>\n",
       "      <td>0.0</td>\n",
       "      <td>100</td>\n",
       "      <td>338</td>\n",
       "      <td>454</td>\n",
       "      <td>27</td>\n",
       "      <td>72</td>\n",
       "    </tr>\n",
       "    <tr>\n",
       "      <th>2</th>\n",
       "      <td>MBB</td>\n",
       "      <td>0.12</td>\n",
       "      <td>0.36</td>\n",
       "      <td>0.52</td>\n",
       "      <td>0.009</td>\n",
       "      <td>0.003</td>\n",
       "      <td>0.089</td>\n",
       "      <td>0.97</td>\n",
       "      <td>0.61</td>\n",
       "      <td>0.04</td>\n",
       "      <td>0.0</td>\n",
       "      <td>0.003</td>\n",
       "      <td>0.0066</td>\n",
       "      <td>0.0</td>\n",
       "      <td>0.0</td>\n",
       "      <td>200</td>\n",
       "      <td>337</td>\n",
       "      <td>465</td>\n",
       "      <td>23</td>\n",
       "      <td>69</td>\n",
       "    </tr>\n",
       "    <tr>\n",
       "      <th>3</th>\n",
       "      <td>MBB</td>\n",
       "      <td>0.12</td>\n",
       "      <td>0.36</td>\n",
       "      <td>0.52</td>\n",
       "      <td>0.009</td>\n",
       "      <td>0.003</td>\n",
       "      <td>0.089</td>\n",
       "      <td>0.97</td>\n",
       "      <td>0.61</td>\n",
       "      <td>0.04</td>\n",
       "      <td>0.0</td>\n",
       "      <td>0.003</td>\n",
       "      <td>0.0066</td>\n",
       "      <td>0.0</td>\n",
       "      <td>0.0</td>\n",
       "      <td>300</td>\n",
       "      <td>346</td>\n",
       "      <td>495</td>\n",
       "      <td>21</td>\n",
       "      <td>70</td>\n",
       "    </tr>\n",
       "    <tr>\n",
       "      <th>4</th>\n",
       "      <td>MBB</td>\n",
       "      <td>0.12</td>\n",
       "      <td>0.36</td>\n",
       "      <td>0.52</td>\n",
       "      <td>0.009</td>\n",
       "      <td>0.003</td>\n",
       "      <td>0.089</td>\n",
       "      <td>0.97</td>\n",
       "      <td>0.61</td>\n",
       "      <td>0.04</td>\n",
       "      <td>0.0</td>\n",
       "      <td>0.003</td>\n",
       "      <td>0.0066</td>\n",
       "      <td>0.0</td>\n",
       "      <td>0.0</td>\n",
       "      <td>400</td>\n",
       "      <td>316</td>\n",
       "      <td>489</td>\n",
       "      <td>26</td>\n",
       "      <td>79</td>\n",
       "    </tr>\n",
       "  </tbody>\n",
       "</table>\n",
       "</div>"
      ],
      "text/plain": [
       "  Alloy code     C    Si    Mn      P      S     Ni    Cr    Mo    Cu    V  \\\n",
       "0        MBB  0.12  0.36  0.52  0.009  0.003  0.089  0.97  0.61  0.04  0.0   \n",
       "1        MBB  0.12  0.36  0.52  0.009  0.003  0.089  0.97  0.61  0.04  0.0   \n",
       "2        MBB  0.12  0.36  0.52  0.009  0.003  0.089  0.97  0.61  0.04  0.0   \n",
       "3        MBB  0.12  0.36  0.52  0.009  0.003  0.089  0.97  0.61  0.04  0.0   \n",
       "4        MBB  0.12  0.36  0.52  0.009  0.003  0.089  0.97  0.61  0.04  0.0   \n",
       "\n",
       "      Al       N  Ceq  Nb + Ta   Temperature (°C)   0.2% Proof Stress (MPa)  \\\n",
       "0  0.003  0.0066  0.0      0.0                 27                       342   \n",
       "1  0.003  0.0066  0.0      0.0                100                       338   \n",
       "2  0.003  0.0066  0.0      0.0                200                       337   \n",
       "3  0.003  0.0066  0.0      0.0                300                       346   \n",
       "4  0.003  0.0066  0.0      0.0                400                       316   \n",
       "\n",
       "    Tensile Strength (MPa)   Elongation (%)   Reduction in Area (%)  \n",
       "0                      490               30                      71  \n",
       "1                      454               27                      72  \n",
       "2                      465               23                      69  \n",
       "3                      495               21                      70  \n",
       "4                      489               26                      79  "
      ]
     },
     "execution_count": 6,
     "metadata": {},
     "output_type": "execute_result"
    }
   ],
   "source": [
    "df = pd.read_csv('./Steels_kaggle.csv')\n",
    "df.head()"
   ]
  },
  {
   "cell_type": "code",
   "execution_count": 7,
   "id": "025e4829",
   "metadata": {},
   "outputs": [],
   "source": [
    "X = df[[' C', ' Si', ' Mn', ' P', ' S', ' Ni', ' Cr', ' Mo',\n",
    "       ' Cu', 'V', ' Al', ' N', ' Temperature (°C)']]\n",
    "Y = df[' 0.2% Proof Stress (MPa)']"
   ]
  },
  {
   "cell_type": "code",
   "execution_count": 8,
   "id": "c40dfe58",
   "metadata": {},
   "outputs": [
    {
     "data": {
      "text/plain": [
       "DecisionTreeRegressor()"
      ]
     },
     "execution_count": 8,
     "metadata": {},
     "output_type": "execute_result"
    }
   ],
   "source": [
    "X_train, X_test, y_train, y_test = train_test_split(X, Y, test_size=0.2, random_state=42)\n",
    "\n",
    "reg = DecisionTreeRegressor()\n",
    "reg.fit(X_train,y_train)"
   ]
  },
  {
   "cell_type": "code",
   "execution_count": 9,
   "id": "4ec64c78",
   "metadata": {},
   "outputs": [
    {
     "data": {
      "image/png": "[encoded data removed]",
      "text/plain": [
       "<Figure size 720x504 with 1 Axes>"
      ]
     },
     "metadata": {
      "needs_background": "light"
     },
     "output_type": "display_data"
    }
   ],
   "source": [
    "fig = plt.figure(figsize=(10,7))\n",
    "\n",
    "plt.plot(y_train, reg.predict(X_train), 'or', label='Train')\n",
    "plt.plot(y_test, reg.predict(X_test), 'ob', label='Test')\n",
    "plt.xlabel('Real value')\n",
    "plt.ylabel('Predicted value')\n",
    "plt.legend()\n",
    "plt.show()"
   ]
  },
  {
   "cell_type": "code",
   "execution_count": 11,
   "id": "1820589b",
   "metadata": {},
   "outputs": [
    {
     "name": "stdout",
     "output_type": "stream",
     "text": [
      "MSE for test is 45.27746879329573 and MSE for train is 0.0\n"
     ]
    }
   ],
   "source": [
    "mse_test = mse(y_test, reg.predict(X_test), squared=False)\n",
    "mse_train = mse(y_train, reg.predict(X_train), squared=False)\n",
    "print(\"MSE for test is\", mse_test, \"and MSE for train is\", mse_train)"
   ]
  },
  {
   "cell_type": "code",
   "execution_count": 12,
   "id": "cc2a2a35",
   "metadata": {},
   "outputs": [],
   "source": [
    "scaler = StandardScaler()\n",
    "Xsc_train = scaler.fit_transform(X_train)\n",
    "Xsc_test = scaler.fit_transform(X_test)"
   ]
  },
  {
   "cell_type": "code",
   "execution_count": 13,
   "id": "67e3c969",
   "metadata": {},
   "outputs": [
    {
     "data": {
      "text/plain": [
       "DecisionTreeRegressor()"
      ]
     },
     "execution_count": 13,
     "metadata": {},
     "output_type": "execute_result"
    }
   ],
   "source": [
    "reg = DecisionTreeRegressor()\n",
    "reg.fit(Xsc_train,y_train)"
   ]
  },
  {
   "cell_type": "code",
   "execution_count": 14,
   "id": "f81292ec",
   "metadata": {},
   "outputs": [
    {
     "name": "stdout",
     "output_type": "stream",
     "text": [
      "MSE for test is 47.31599389940493 and MSE for train is 0.0\n"
     ]
    }
   ],
   "source": [
    "mse_test = mse(y_test, reg.predict(Xsc_test), squared=False)\n",
    "mse_train = mse(y_train, reg.predict(Xsc_train), squared=False)\n",
    "print(\"MSE for test is\", mse_test, \"and MSE for train is\", mse_train)"
   ]
  },
  {
   "cell_type": "markdown",
   "id": "616d5679",
   "metadata": {},
   "source": [
    "### The result without scaling is better. This can be explained by the formulation of the DecisionTree algorithm"
   ]
  },
  {
   "cell_type": "code",
   "execution_count": 33,
   "id": "3de2dbb7",
   "metadata": {},
   "outputs": [
    {
     "data": {
      "text/plain": [
       "GridSearchCV(cv=5, estimator=DecisionTreeRegressor(), n_jobs=8,\n",
       "             param_grid={'max_depth': array([2, 3, 4, 5, 6, 7]),\n",
       "                         'max_leaf_nodes': array([30, 31, 32, 33, 34, 35, 36, 37, 38, 39, 40, 41, 42, 43, 44, 45, 46,\n",
       "       47, 48, 49]),\n",
       "                         'min_samples_leaf': array([2, 3, 4, 5]),\n",
       "                         'min_samples_split': array([2, 3, 4, 5, 6, 7])},\n",
       "             scoring='neg_mean_squared_error')"
      ]
     },
     "execution_count": 33,
     "metadata": {},
     "output_type": "execute_result"
    }
   ],
   "source": [
    "num_folds = 5\n",
    "model = DecisionTreeRegressor()\n",
    "\n",
    "params = {'max_depth': np.arange(2, 8), 'min_samples_leaf': np.arange(2, 6), \n",
    "          'min_samples_split': np.arange(2, 8), 'max_leaf_nodes': np.arange(30, 50)}\n",
    "\n",
    "grid = GridSearchCV(model, params, scoring='neg_mean_squared_error', cv=num_folds, n_jobs=8 )\n",
    "grid.fit(X_train,y_train)"
   ]
  },
  {
   "cell_type": "code",
   "execution_count": 34,
   "id": "8b0235f5",
   "metadata": {},
   "outputs": [
    {
     "data": {
      "text/plain": [
       "{'max_depth': 7,\n",
       " 'max_leaf_nodes': 49,\n",
       " 'min_samples_leaf': 4,\n",
       " 'min_samples_split': 2}"
      ]
     },
     "execution_count": 34,
     "metadata": {},
     "output_type": "execute_result"
    }
   ],
   "source": [
    "grid.best_params_"
   ]
  },
  {
   "cell_type": "code",
   "execution_count": 35,
   "id": "38014c6f",
   "metadata": {},
   "outputs": [
    {
     "name": "stderr",
     "output_type": "stream",
     "text": [
      "/home/user/.local/lib/python3.8/site-packages/sklearn/model_selection/_validation.py:372: FitFailedWarning: \n",
      "10000 fits failed out of a total of 40000.\n",
      "The score on these train-test partitions for these parameters will be set to nan.\n",
      "If these failures are not expected, you can try to debug them by setting error_score='raise'.\n",
      "\n",
      "Below are more details about the failures:\n",
      "--------------------------------------------------------------------------------\n",
      "10000 fits failed with the following error:\n",
      "Traceback (most recent call last):\n",
      "  File \"/home/user/.local/lib/python3.8/site-packages/sklearn/model_selection/_validation.py\", line 680, in _fit_and_score\n",
      "    estimator.fit(X_train, y_train, **fit_params)\n",
      "  File \"/home/user/.local/lib/python3.8/site-packages/sklearn/tree/_classes.py\", line 1315, in fit\n",
      "    super().fit(\n",
      "  File \"/home/user/.local/lib/python3.8/site-packages/sklearn/tree/_classes.py\", line 250, in fit\n",
      "    raise ValueError(\n",
      "ValueError: min_samples_split must be an integer greater than 1 or a float in (0.0, 1.0]; got the integer 1\n",
      "\n",
      "  warnings.warn(some_fits_failed_message, FitFailedWarning)\n",
      "/home/user/.local/lib/python3.8/site-packages/sklearn/model_selection/_search.py:969: UserWarning: One or more of the test scores are non-finite: [           nan -1670.25792481 -1543.93870557 ... -1582.30432295\n",
      " -1584.14256936 -1580.35321184]\n",
      "  warnings.warn(\n"
     ]
    },
    {
     "data": {
      "text/plain": [
       "{'max_depth': 11,\n",
       " 'max_leaf_nodes': 143,\n",
       " 'min_samples_leaf': 4,\n",
       " 'min_samples_split': 2}"
      ]
     },
     "execution_count": 35,
     "metadata": {},
     "output_type": "execute_result"
    }
   ],
   "source": [
    "num_folds = 5\n",
    "model = DecisionTreeRegressor()\n",
    "\n",
    "params = {'max_depth': np.arange(7, 12), 'min_samples_leaf': np.arange(3, 7), \n",
    "          'min_samples_split': np.arange(1, 5), 'max_leaf_nodes': np.arange(100, 200)}\n",
    "\n",
    "grid = GridSearchCV(model, params, scoring='neg_mean_squared_error', cv=num_folds, n_jobs=8 )\n",
    "grid.fit(X_train,y_train)\n",
    "\n",
    "grid.best_params_"
   ]
  },
  {
   "cell_type": "code",
   "execution_count": 36,
   "id": "99c1f6d6",
   "metadata": {},
   "outputs": [
    {
     "name": "stderr",
     "output_type": "stream",
     "text": [
      "/home/user/.local/lib/python3.8/site-packages/sklearn/model_selection/_validation.py:372: FitFailedWarning: \n",
      "1500 fits failed out of a total of 4500.\n",
      "The score on these train-test partitions for these parameters will be set to nan.\n",
      "If these failures are not expected, you can try to debug them by setting error_score='raise'.\n",
      "\n",
      "Below are more details about the failures:\n",
      "--------------------------------------------------------------------------------\n",
      "1500 fits failed with the following error:\n",
      "Traceback (most recent call last):\n",
      "  File \"/home/user/.local/lib/python3.8/site-packages/sklearn/model_selection/_validation.py\", line 680, in _fit_and_score\n",
      "    estimator.fit(X_train, y_train, **fit_params)\n",
      "  File \"/home/user/.local/lib/python3.8/site-packages/sklearn/tree/_classes.py\", line 1315, in fit\n",
      "    super().fit(\n",
      "  File \"/home/user/.local/lib/python3.8/site-packages/sklearn/tree/_classes.py\", line 250, in fit\n",
      "    raise ValueError(\n",
      "ValueError: min_samples_split must be an integer greater than 1 or a float in (0.0, 1.0]; got the integer 1\n",
      "\n",
      "  warnings.warn(some_fits_failed_message, FitFailedWarning)\n",
      "/home/user/.local/lib/python3.8/site-packages/sklearn/model_selection/_search.py:969: UserWarning: One or more of the test scores are non-finite: [           nan -1544.69165894 -1393.8410824             nan\n",
      " -1372.5270391  -1349.83646708            nan -1453.96288651\n",
      " -1446.00183171            nan -1423.80096947 -1426.28159148\n",
      "            nan -1348.24908836 -1377.95987218            nan\n",
      " -1447.42503514 -1451.8825005             nan -1545.24423383\n",
      " -1418.20112854            nan -1367.33514721 -1360.85473891\n",
      "            nan -1445.88391943 -1438.84906403            nan\n",
      " -1428.37466549 -1395.51844471            nan -1374.61564167\n",
      " -1363.43783831            nan -1452.6458428  -1452.86125028\n",
      "            nan -1534.545654   -1519.9045545             nan\n",
      " -1360.46293288 -1366.30567513            nan -1442.56897479\n",
      " -1442.56897479            nan -1420.47154274 -1428.19557806\n",
      "            nan -1368.25503937 -1369.42531636            nan\n",
      " -1446.95476322 -1447.42503514            nan -1418.73743816\n",
      " -1387.59136729            nan -1360.22435956 -1364.60453104\n",
      "            nan -1444.90019549 -1442.32683519            nan\n",
      " -1437.21869019 -1498.58202823            nan -1375.7671235\n",
      " -1354.34272465            nan -1440.90363176 -1441.49407068\n",
      "            nan -1507.62724846 -1538.49077019            nan\n",
      " -1372.51954256 -1360.0585701             nan -1440.90363176\n",
      " -1439.72439197            nan -1412.11808062 -1515.98902515\n",
      "            nan -1359.85826612 -1353.38938763            nan\n",
      " -1447.02558563 -1440.48858878            nan -1394.92138896\n",
      " -1546.1817104             nan -1373.24379274 -1371.40265105\n",
      "            nan -1452.9565501  -1446.53886572            nan\n",
      " -1403.96528114 -1530.4081858             nan -1365.31379595\n",
      " -1359.44355311            nan -1444.3631799  -1446.32565363\n",
      "            nan -1400.0585018  -1403.28077851            nan\n",
      " -1348.16479926 -1359.23308474            nan -1439.78780226\n",
      " -1448.56670134            nan -1511.85566049 -1531.7558771\n",
      "            nan -1350.69782271 -1368.77018651            nan\n",
      " -1442.32683519 -1442.56897479            nan -1528.15907703\n",
      " -1428.55974297            nan -1364.71882761 -1362.89092272\n",
      "            nan -1451.97508086 -1446.72845493            nan\n",
      " -1405.18272631 -1420.17423879            nan -1349.29723728\n",
      " -1369.3639942             nan -1451.11830369 -1445.18508451\n",
      "            nan -1526.69167944 -1431.60946295            nan\n",
      " -1362.55945951 -1373.75877319            nan -1448.21840202\n",
      " -1446.13801602            nan -1416.27614522 -1552.37170523\n",
      "            nan -1369.12519099 -1360.12764449            nan\n",
      " -1447.62796311 -1447.01224687            nan -1408.99651771\n",
      " -1403.97538062            nan -1357.42546365 -1348.7297603\n",
      "            nan -1447.07673582 -1453.07671709            nan\n",
      " -1551.45821911 -1549.60498084            nan -1359.94546901\n",
      " -1357.41991164            nan -1450.4451038  -1441.97853587\n",
      "            nan -1572.51874557 -1388.80993836            nan\n",
      " -1354.39633046 -1376.02827875            nan -1439.97739147\n",
      " -1446.27224873            nan -1421.31692615 -1550.23458699\n",
      "            nan -1371.32578951 -1350.13606718            nan\n",
      " -1442.32683519 -1440.48858878            nan -1444.31328975\n",
      " -1409.7691054             nan -1357.45644872 -1361.5060575\n",
      "            nan -1441.49407068 -1448.56670134            nan\n",
      " -1540.24218651 -1518.47232255            nan -1363.65388882\n",
      " -1376.63413982            nan -1448.37796665 -1440.00412359\n",
      "            nan -1526.32042392 -1412.65318849            nan\n",
      " -1376.87870344 -1351.45777377            nan -1446.95476322\n",
      " -1445.58678873            nan -1411.3346767  -1416.8660626\n",
      "            nan -1354.60889331 -1357.608808              nan\n",
      " -1452.6458428  -1444.99634982            nan -1406.95077345\n",
      " -1532.54084385            nan -1362.19840314 -1366.90857246\n",
      "            nan -1442.15307729 -1441.80477797            nan\n",
      " -1556.60502633 -1418.38952952            nan -1364.56166729\n",
      " -1354.08829045            nan -1444.87437721 -1451.34461197\n",
      "            nan -1540.1798004  -1522.86511485            nan\n",
      " -1352.772718   -1365.96379595            nan -1445.03637979\n",
      " -1444.87437721            nan -1395.07283014 -1435.67980495\n",
      "            nan -1365.50571682 -1354.84656969            nan\n",
      " -1447.07673582 -1440.67732347            nan -1528.18042841\n",
      " -1408.64015139            nan -1368.71930712 -1368.88507133\n",
      "            nan -1441.25193108 -1445.6109874             nan\n",
      " -1507.50721336 -1534.58702163            nan -1370.8346355\n",
      " -1369.16460052            nan -1439.09122205 -1438.43402105\n",
      "            nan -1506.40792924 -1411.41003682            nan\n",
      " -1353.79084122 -1375.04177451            nan -1445.58678873\n",
      " -1440.31483088            nan -1410.99757276 -1529.37594167\n",
      "            nan -1366.87811029 -1353.48088944            nan\n",
      " -1446.83685094 -1440.12609619            nan -1430.3594774\n",
      " -1424.16646092            nan -1353.08364797 -1359.73439695\n",
      "            nan -1442.32683519 -1448.08629647            nan\n",
      " -1527.95639772 -1525.52728505            nan -1376.65239842\n",
      " -1364.66964893            nan -1446.3643243  -1446.48629691\n",
      "            nan -1405.80690262 -1399.03573096            nan\n",
      " -1371.73889929 -1355.69728213            nan -1447.49179723\n",
      " -1451.93505089            nan -1534.94436571 -1446.36080963\n",
      "            nan -1356.85018649 -1349.19358512            nan\n",
      " -1442.56897479 -1441.61604328            nan -1536.04555081\n",
      " -1547.84372426            nan -1372.94876241 -1359.46750915\n",
      "            nan -1441.25193108 -1451.39803531            nan\n",
      " -1417.49655136 -1397.33658146            nan -1358.58234138\n",
      " -1373.44056097            nan -1439.43950294 -1446.6750316\n",
      "            nan -1528.15119593 -1419.25830808            nan\n",
      " -1353.32244737 -1353.38491406            nan -1447.14349791\n",
      " -1445.77552342            nan -1520.87071438 -1404.72803534\n",
      "            nan -1356.42436647 -1357.35801612            nan\n",
      " -1447.97626243 -1440.70314175            nan -1555.30626703\n",
      " -1528.36745443            nan -1359.81708512 -1355.812652\n",
      "            nan -1446.72845493 -1446.53886572            nan\n",
      " -1520.77653786 -1518.91380611            nan -1349.29499437\n",
      " -1357.16032654            nan -1446.53886572 -1448.02966733\n",
      "            nan -1517.35232712 -1412.47433842            nan\n",
      " -1367.64168459 -1359.15867787            nan -1446.53972024\n",
      " -1441.0790277             nan -1394.78021981 -1531.59884283\n",
      "            nan -1370.30724881 -1361.63973749            nan\n",
      " -1448.37796665 -1443.59898309            nan -1512.36735987\n",
      " -1524.73151897            nan -1368.33291096 -1369.65089348\n",
      "            nan -1440.00412359 -1441.09236645            nan\n",
      " -1505.79697773 -1506.51670001            nan -1367.38971033\n",
      " -1369.44639793            nan -1445.94928132 -1440.48773427\n",
      "            nan -1403.54919981 -1525.89010361            nan\n",
      " -1359.73304589 -1370.08148457            nan -1446.95476322\n",
      " -1441.56263838            nan -1542.56908425 -1512.84762849\n",
      "            nan -1357.01376656 -1358.57000501            nan\n",
      " -1444.3631799  -1443.1060088             nan -1512.85100379\n",
      " -1529.1935231             nan -1357.62155625 -1370.45478895\n",
      "            nan -1448.37796665 -1447.01224687            nan\n",
      " -1534.11679041 -1422.97209563            nan -1357.80619464\n",
      " -1345.7657431             nan -1446.6750316  -1442.91727411\n",
      "            nan -1437.04911805 -1552.64992968            nan\n",
      " -1361.25310323 -1368.77139101            nan -1438.84906403\n",
      " -1445.93734276            nan -1403.48622589 -1398.89659387\n",
      "            nan -1361.85378916 -1366.79740138            nan\n",
      " -1446.6750316  -1441.0790277             nan -1406.79920405\n",
      " -1397.89882594            nan -1372.25239771 -1367.31043072\n",
      "            nan -1441.97853587 -1446.72845493            nan\n",
      " -1410.28935962 -1420.0855682             nan -1360.22995956\n",
      " -1367.16525779            nan -1446.53972024 -1445.24849481\n",
      "            nan -1438.2088464  -1511.56932929            nan\n",
      " -1378.88849456 -1374.38596306            nan -1441.41393366\n",
      " -1443.1060088             nan -1422.89732765 -1555.74654173\n",
      "            nan -1358.34300535 -1375.16050571            nan\n",
      " -1442.32683519 -1444.87437721            nan -1442.20685837\n",
      " -1526.2372488             nan -1357.70479879 -1350.78720543\n",
      "            nan -1446.00183171 -1446.8746262             nan\n",
      " -1416.01846255 -1424.34846469            nan -1362.78382495\n",
      " -1371.04423071            nan -1441.49407068 -1448.37796665\n",
      "            nan -1572.11252262 -1420.41807224            nan\n",
      " -1374.41468348 -1353.22804197            nan -1439.72439197\n",
      " -1439.62823764            nan -1551.63439995 -1436.59364266\n",
      "            nan -1372.06016728 -1374.42504189            nan\n",
      " -1441.02560436 -1441.9643426             nan -1518.99005437\n",
      " -1551.38455702            nan -1359.35716044 -1364.97930697\n",
      "            nan -1453.07671709 -1445.65355082            nan\n",
      " -1539.49236171 -1528.16298066            nan -1372.25071599\n",
      " -1369.78769945            nan -1446.48629691 -1447.02558563\n",
      "            nan -1445.74920207 -1424.00276451            nan\n",
      " -1368.1653004  -1375.07312534            nan -1448.85049328\n",
      " -1447.37388495            nan -1533.88538048 -1512.56888403\n",
      "            nan -1365.61037891 -1364.9528891             nan\n",
      " -1448.85049328 -1441.61604328            nan -1433.2147187\n",
      " -1425.88504936            nan -1361.13739413 -1369.29211532\n",
      "            nan -1440.13943495 -1453.009955              nan\n",
      " -1541.37973101 -1525.43935842            nan -1366.62149001\n",
      " -1355.32481278            nan -1439.23992677 -1447.49179723\n",
      "            nan -1548.79610046 -1394.03386253            nan\n",
      " -1357.77935339 -1366.26836861            nan -1440.00412359\n",
      " -1440.70314175            nan -1512.81607502 -1426.06641658\n",
      "            nan -1358.09504416 -1375.01151561            nan\n",
      " -1446.00183171 -1439.23992677            nan -1554.81195384\n",
      " -1529.26252554            nan -1370.1409582  -1358.52897322\n",
      "            nan -1446.95476322 -1439.09122205            nan\n",
      " -1533.89695435 -1421.75838223            nan -1354.21313397\n",
      " -1368.94894962            nan -1451.52000791 -1445.93734276\n",
      "            nan -1526.30474945 -1527.91928204            nan\n",
      " -1360.69511122 -1378.85219179            nan -1453.35825432\n",
      " -1441.02560436            nan -1394.65105102 -1518.39205995\n",
      "            nan -1363.86731447 -1368.44111118            nan\n",
      " -1445.02444123 -1446.95476322            nan -1420.48903354\n",
      " -1401.05344818            nan -1375.4567587  -1362.35878632\n",
      "            nan -1453.96288651 -1446.47435835            nan\n",
      " -1396.94955674 -1429.96222917            nan -1348.26874331\n",
      " -1374.28337663            nan -1453.23628172 -1440.87689964\n",
      "            nan -1543.92721228 -1422.33326157            nan\n",
      " -1374.02173612 -1370.46730613            nan -1437.94955585\n",
      " -1440.00412359            nan -1566.54780278 -1545.44008577\n",
      "            nan -1364.28580947 -1354.59861054            nan\n",
      " -1448.50219396 -1444.51188462            nan -1429.86206679\n",
      " -1540.89986904            nan -1364.38809956 -1373.83068688\n",
      "            nan -1446.71262362 -1445.43808401            nan\n",
      " -1413.42676836 -1533.47797717            nan -1354.32342289\n",
      " -1362.7166167             nan -1439.72439197 -1441.68280537\n",
      "            nan -1554.45158685 -1544.53240788            nan\n",
      " -1351.98642105 -1359.64800396            nan -1446.1905664\n",
      " -1441.09236645            nan -1410.72298746 -1545.20930173\n",
      "            nan -1366.26677202 -1349.76055056            nan\n",
      " -1453.72074691 -1441.26776239            nan -1525.23138865\n",
      " -1539.34501857            nan -1366.40878428 -1366.49987053\n",
      "            nan -1453.96288651 -1441.37390368            nan\n",
      " -1404.85740891 -1439.04946169            nan -1369.87441513\n",
      " -1365.74059981            nan -1447.78752773 -1441.49407068\n",
      "            nan -1409.38867648 -1557.29392127            nan\n",
      " -1366.75111248 -1356.10731346            nan -1443.1060088\n",
      " -1446.83459622            nan -1535.33956849 -1418.00919317\n",
      "            nan -1369.03111813 -1354.61790251            nan\n",
      " -1439.21319466 -1446.20548664            nan -1402.90758251\n",
      " -1517.61731693            nan -1366.31484672 -1362.22136536\n",
      "            nan -1447.01224687 -1439.53565727            nan\n",
      " -1422.95142271 -1543.9499728             nan -1357.97296105\n",
      " -1374.35751933            nan -1452.28335021 -1442.32683519\n",
      "            nan -1511.31266832 -1521.45818537            nan\n",
      " -1367.08002723 -1353.98926829            nan -1446.61054265\n",
      " -1447.61376983            nan -1421.26194084 -1402.50856485\n",
      "            nan -1366.7919096  -1381.53507212            nan\n",
      " -1439.53565727 -1438.64948786            nan -1404.86364455\n",
      " -1419.86879926            nan -1368.0298043  -1367.07609345\n",
      "            nan -1448.02966733 -1448.02966733            nan\n",
      " -1411.47214192 -1511.47020563            nan -1372.27402623\n",
      " -1366.66633589            nan -1441.25193108 -1447.18515026\n",
      "            nan -1432.5141777  -1392.30821885            nan\n",
      " -1372.10736691 -1370.90319561            nan -1447.26547051\n",
      " -1444.07150973            nan -1535.61566704 -1565.22762963\n",
      "            nan -1351.47921669 -1357.7645247             nan\n",
      " -1446.9280311  -1446.00183171            nan -1526.67481632\n",
      " -1388.37412278            nan -1355.52181378 -1354.98624989\n",
      "            nan -1440.29899957 -1446.35013103            nan\n",
      " -1410.18226051 -1520.63832842            nan -1360.25440934\n",
      " -1368.64703837            nan -1445.4113928  -1447.77558917\n",
      "            nan -1436.28996871 -1549.29940021            nan\n",
      " -1351.56345959 -1371.69050834            nan -1446.3643243\n",
      " -1440.16612616            nan -1515.39345299 -1425.78327324\n",
      "            nan -1367.84098986 -1374.96160904            nan\n",
      " -1447.49585756 -1448.69092866            nan -1527.47509021\n",
      " -1426.04999612            nan -1371.68072665 -1361.4374304\n",
      "            nan -1448.56670134 -1439.60241936            nan\n",
      " -1419.95920069 -1422.68196795            nan -1370.19166034\n",
      " -1364.74122739            nan -1448.69092866 -1441.37390368]\n",
      "  warnings.warn(\n"
     ]
    },
    {
     "data": {
      "text/plain": [
       "{'max_depth': 17,\n",
       " 'max_leaf_nodes': 151,\n",
       " 'min_samples_leaf': 4,\n",
       " 'min_samples_split': 3}"
      ]
     },
     "execution_count": 36,
     "metadata": {},
     "output_type": "execute_result"
    }
   ],
   "source": [
    "num_folds = 5\n",
    "model = DecisionTreeRegressor()\n",
    "\n",
    "params = {'max_depth': np.arange(15, 20), 'min_samples_leaf': np.arange(3, 6), \n",
    "          'min_samples_split': np.arange(1, 4), 'max_leaf_nodes': np.arange(140, 160)}\n",
    "\n",
    "grid = GridSearchCV(model, params, scoring='neg_mean_squared_error', cv=num_folds, n_jobs=8 )\n",
    "grid.fit(X_train,y_train)\n",
    "\n",
    "grid.best_params_"
   ]
  },
  {
   "cell_type": "code",
   "execution_count": 37,
   "id": "3cfc85bb",
   "metadata": {},
   "outputs": [
    {
     "data": {
      "text/plain": [
       "{'max_depth': 16,\n",
       " 'max_leaf_nodes': 156,\n",
       " 'min_samples_leaf': 4,\n",
       " 'min_samples_split': 3}"
      ]
     },
     "execution_count": 37,
     "metadata": {},
     "output_type": "execute_result"
    }
   ],
   "source": [
    "num_folds = 5\n",
    "model = DecisionTreeRegressor()\n",
    "\n",
    "params = {'max_depth': np.arange(15, 20), 'min_samples_leaf': np.arange(3, 6), \n",
    "          'min_samples_split': np.arange(3, 6), 'max_leaf_nodes': np.arange(140, 160)}\n",
    "\n",
    "grid = GridSearchCV(model, params, scoring='neg_mean_squared_error', cv=num_folds, n_jobs=8 )\n",
    "grid.fit(X_train,y_train)\n",
    "\n",
    "grid.best_params_"
   ]
  },
  {
   "cell_type": "code",
   "execution_count": 38,
   "id": "162ec79d",
   "metadata": {},
   "outputs": [
    {
     "data": {
      "image/png": "[encoded data removed]",
      "text/plain": [
       "<Figure size 720x504 with 1 Axes>"
      ]
     },
     "metadata": {
      "needs_background": "light"
     },
     "output_type": "display_data"
    }
   ],
   "source": [
    "reg = grid.best_estimator_\n",
    "\n",
    "fig = plt.figure(figsize=(10,7))\n",
    "\n",
    "plt.plot(y_train, reg.predict(X_train), 'or', label='Train')\n",
    "plt.plot(y_test, reg.predict(X_test), 'ob', label='Test')\n",
    "plt.xlabel('Real value')\n",
    "plt.ylabel('Predicted value')\n",
    "plt.legend()\n",
    "plt.show()"
   ]
  },
  {
   "cell_type": "code",
   "execution_count": 39,
   "id": "210c9220",
   "metadata": {},
   "outputs": [
    {
     "name": "stdout",
     "output_type": "stream",
     "text": [
      "MSE for test is 37.78028990299563 and MSE for train is 20.792320129620588\n"
     ]
    }
   ],
   "source": [
    "mse_test = mse(y_test, reg.predict(X_test), squared=False)\n",
    "mse_train = mse(y_train, reg.predict(X_train), squared=False)\n",
    "print(\"MSE for test is\", mse_test, \"and MSE for train is\", mse_train)"
   ]
  },
  {
   "cell_type": "markdown",
   "id": "f370edb5",
   "metadata": {},
   "source": [
    "### Thus, DecisionTree gives a better result than linear regression, a comparable result to polynomial regression and loses to the SVR"
   ]
  },
  {
   "cell_type": "code",
   "execution_count": null,
   "id": "b9d2cc28",
   "metadata": {},
   "outputs": [],
   "source": []
  }
 ],
 "metadata": {
  "kernelspec": {
   "display_name": "Python 3 (ipykernel)",
   "language": "python",
   "name": "python3"
  },
  "language_info": {
   "codemirror_mode": {
    "name": "ipython",
    "version": 3
   },
   "file_extension": ".py",
   "mimetype": "text/x-python",
   "name": "python",
   "nbconvert_exporter": "python",
   "pygments_lexer": "ipython3",
   "version": "3.8.10"
  }
 },
 "nbformat": 4,
 "nbformat_minor": 5
}
